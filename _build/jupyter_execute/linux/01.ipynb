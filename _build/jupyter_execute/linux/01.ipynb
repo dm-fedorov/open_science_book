{
 "cells": [
  {
   "cell_type": "markdown",
   "metadata": {},
   "source": [
    "# Философия UNIX (GNU/Linux)\n",
    "\n",
    "Введение в UNIX. Алексей Федосеев: http://heap.altlinux.org/tmp/unix_base/\n",
    "\n",
    "Введение в Linux системы: https://www.youtube.com/playlist?list=PL6kSdcHYB3x7pUh4eRRzYV7_r75XWX9gx\n",
    "\n",
    "Программное обеспечение GNU/Linux: http://uneex.ru/LecturesCMC/LinuxSoftware2017\n",
    "\n",
    "Architecture of OS: https://www.youtube.com/playlist?list=PL6kSdcHYB3x5At-GV92Wwj3QV6eY5O4w3\n",
    "\n",
    "Операционная система Linux. Курс лекций. Учебное пособие: https://docs.altlinux.org/books/altlibrary-linuxintro2.pdf"
   ]
  }
 ],
 "metadata": {
  "language_info": {
   "codemirror_mode": {
    "name": "ipython",
    "version": 3
   },
   "file_extension": ".py",
   "mimetype": "text/x-python",
   "name": "python",
   "nbconvert_exporter": "python",
   "pygments_lexer": "ipython3",
   "version": "3.9.12"
  }
 },
 "nbformat": 4,
 "nbformat_minor": 2
}